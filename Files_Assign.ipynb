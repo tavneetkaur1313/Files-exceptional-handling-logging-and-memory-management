{
  "nbformat": 4,
  "nbformat_minor": 0,
  "metadata": {
    "colab": {
      "provenance": []
    },
    "kernelspec": {
      "name": "python3",
      "display_name": "Python 3"
    },
    "language_info": {
      "name": "python"
    }
  },
  "cells": [
    {
      "cell_type": "markdown",
      "source": [
        "# Files, exceptional handling, logging and memory management Questions"
      ],
      "metadata": {
        "id": "8CFLnQ2YJwqX"
      }
    },
    {
      "cell_type": "markdown",
      "source": [
        "1.  What is the difference between interpreted and compiled languages?\n",
        "\n",
        "Ans - COMPILE LANGUAGES\n",
        "\n",
        "-> Compiled language follows at least two levels to get from source code to execution.\n",
        "\n",
        "-> A compiled language is converted into machine code so that the processor can execute it.\n",
        "\n",
        "-> The compiled programs run faster than interpreted programs.\n",
        "\n",
        "-> In a compiled language, the code can be executed by the CPU.\n",
        "\n",
        "-> This language delivers better performance.\n",
        "\n",
        "INTERPRETED LANGUAGES'\n",
        "\n",
        "-> Interpreted language follows one step to get from source code to execution.\n",
        "\n",
        "-> An interpreted language is a language in which the implementations execute instructions directly without earlier compiling a program into machine language.\n",
        "\n",
        "-> The interpreted programs run slower than the compiled program.\n",
        "\n",
        "-> In Interpreted languages, the program cannot be compiled, it is interpreted.\n",
        "\n",
        "-> This language delivers slower performance."
      ],
      "metadata": {
        "id": "PD2jrF8AJ6yB"
      }
    },
    {
      "cell_type": "markdown",
      "source": [
        "2.  What is exception handling in Python?\n",
        "\n",
        "Ans - In Python, exception handling is the process of responding to errors that occur during program execution. It allows programs to continue running smoothly and avoid crashing.\n",
        "\n",
        "How exception handling works?\n",
        "\n",
        "-> The try block contains code that might raise an exception.\n",
        "-> If an exception occurs, the except block handles it.\n",
        "-> The else block is executed if the try clause does not raise an exception.\n",
        "\n",
        "Example - Zero division error, when you try to divide a number by 0"
      ],
      "metadata": {
        "id": "Wt6aREM5K2S5"
      }
    },
    {
      "cell_type": "markdown",
      "source": [
        "3. What is the purpose of the finally block in exception handling?\n",
        "\n",
        "Ans - The finally block in Python's exception handling mechanism ensures that a specific block of code is executed regardless of whether an exception was raised or not within the preceding try block. This is particularly useful for resource cleanup, such as closing files or releasing network connections, ensuring that these actions always occur, even if an error occurs."
      ],
      "metadata": {
        "id": "TS-Aab14LPnA"
      }
    },
    {
      "cell_type": "markdown",
      "source": [
        "4.  What is logging in Python?\n",
        "\n",
        "Ans - Python logging is a module that allows you to track events that occur while your program is running. You can use logging to record information about errors, warnings, and other events that occur during program execution. And logging is a useful tool for debugging, troubleshooting, and monitoring your program."
      ],
      "metadata": {
        "id": "wAsazJwfLc9v"
      }
    },
    {
      "cell_type": "markdown",
      "source": [
        "5. What is the significance of the __del__ method in Python?\n",
        "\n",
        "Ans - In Python, the __del__() method is referred to as a destructor method. It is called after an object's garbage collection occurs, which happens after all references to the item have been destroyed."
      ],
      "metadata": {
        "id": "uWVCZBHQLmLo"
      }
    },
    {
      "cell_type": "markdown",
      "source": [
        "6. What is the difference between import and from ... import in Python?\n",
        "\n",
        "Ans - The difference between import and from import in Python is: import imports an entire code library. from import imports a specific member or members of the library.\n",
        "\n"
      ],
      "metadata": {
        "id": "KFeDrpyxLvLh"
      }
    },
    {
      "cell_type": "markdown",
      "source": [
        "7. How can you handle multiple exceptions in Python?\n",
        "\n",
        "Ans - In Python, you can handle multiple exceptions using a try-except block with multiple except clauses or by using a single except clause with a tuple of exception types. When using multiple except clauses, each clause handles a specific exception type. If a single except clause with a tuple is used, it handles all exceptions listed in the tuple in the same way."
      ],
      "metadata": {
        "id": "8x9flj1gL2gj"
      }
    },
    {
      "cell_type": "markdown",
      "source": [
        "8. What is the purpose of the with statement when handling files in Python?\n",
        "\n",
        "Ans - The purpose of the with statement in Python file handling is to streamline resource management, ensuring files are opened and closed automatically, and that the code within the with block executes even if exceptions are raised. This simplifies file operations and reduces the risk of resource leaks."
      ],
      "metadata": {
        "id": "MlHRWAgkMFI8"
      }
    },
    {
      "cell_type": "markdown",
      "source": [
        "9.  What is the difference between multithreading and multiprocessing?\n",
        "\n",
        "Ans - Multithreading and multiprocessing are both used to achieve concurrency, but they do so in different ways.\n",
        "\n",
        "MULTITHREADING\n",
        "\n",
        "-> Concurrency vs. Parallelism - Multithreading implements concurrency, meaning tasks appear to run simultaneously but may not be truly parallel on a single processor.\n",
        "\n",
        "-> Memory Space - Multithreading utilizes a shared memory space among all threads within a single process.\n",
        "\n",
        "-> Global Interpreter Lock (GIL) - Python's GIL restricts a single thread from executing bytecode at a time, impacting the performance of multithreaded programs.\n",
        "\n",
        "-> Use Cases - Multithreading is well-suited for I/O-bound tasks (e.g., web scraping) where waiting for external resources can be handled efficiently by multiple threads sharing the same process.\n",
        "\n",
        "MULTIPROCESSING\n",
        "\n",
        "-> Concurrency vs. Parallelism - Multiprocessing, on the other hand, implements true parallelism by utilizing multiple CPU cores.\n",
        "\n",
        "-> Memory Space - Multiprocessing, however, creates a separate memory space for each process, making inter-process communication more complex.\n",
        "\n",
        "-> Global Interpreter Lock (GIL) - Multiprocessing bypasses the GIL, allowing for true parallelism and better utilization of multiple CPU cores.\n",
        "\n",
        "-> Use Cases -  Multiprocessing is better suited for CPU-bound tasks (e.g., data processing, scientific simulations) where the processor is actively involved in computation and multiple cores can be utilized."
      ],
      "metadata": {
        "id": "_yHmcpUeMRGA"
      }
    },
    {
      "cell_type": "markdown",
      "source": [
        "10.  What are the advantages of using logging in a program?\n",
        "\n",
        "Ans - Logging in Python offers significant advantages for debugging, monitoring, and understanding program behavior. It provides structured information about errors, warnings, and other events, making it easier to identify issues and analyze program flow. This is much more effective than relying on print statements, which can be easily overlooked in production environments.\n",
        "\n",
        "-> *Enhanced Debugging and Troubleshooting*\n",
        "\n",
        "Root Cause Analysis - Logs help pinpoint the source of errors and understand the sequence of events leading to an issue.\n",
        "\n",
        "Improved Error Tracking - Logging allows you to track errors, warnings, and other events that might be missed by print statements.\n",
        "\n",
        "Debugging in Production - In a production environment, logging becomes essential for identifying and resolving issues without relying on print statements, which are not designed for that purpose.\n",
        "\n",
        "->  *Application Monitoring and Performance Analysis*\n",
        "\n",
        "Real-time Insights - Logging allows you to monitor your application's performance and behavior in real-time.\n",
        "\n",
        "Performance Trend Analysis - Logs can track performance trends over time, helping you identify bottlenecks and areas for optimization.\n",
        "\n",
        "-> *Audit Trails and Compliance*\n",
        "\n",
        "Security Breach Detection - Logging can be used to detect and investigate potential security breaches.\n",
        "\n",
        "->  *Advantages over Print Statements*\n",
        "\n",
        "Structured Logging - Logging provides a structured way to organize and manage log messages, making it easier to search and analyze them.\n",
        "\n",
        "Built-in to Python - Python's logging module is a standard library, so you don't need to install any external dependencies.\n"
      ],
      "metadata": {
        "id": "iDn0ZdI1OmYu"
      }
    },
    {
      "cell_type": "markdown",
      "source": [
        "11. What is memory management in Python?\n",
        "\n",
        "Ans - In Python, memory management is the process of allocating and deallocating memory for objects and data structures during program execution. Python handles this automatically, meaning developers generally don't need to manually allocate or free memory. This is done through a private heap, where all Python objects are stored, and the Python memory manager handles allocation and deallocation."
      ],
      "metadata": {
        "id": "BWO7ms3AQZ0Z"
      }
    },
    {
      "cell_type": "markdown",
      "source": [
        "12. What are the basic steps involved in exception handling in Python?\n",
        "\n",
        "Ans - 1. try block:\n",
        "This block contains the code that might potentially raise an exception. For example, trying to divide a number by zero or accessing an invalid index in a list could raise an exception.\n",
        "\n",
        "2. except block:\n",
        "This block is executed when an exception is raised within the try block. You can specify the type of exception you want to handle (e.g., ZeroDivisionError, IndexError) or use a general Exception to handle all exceptions. The except block allows you to take specific actions, such as logging the error, providing an alternative course of action, or informing the user about the error.\n",
        "\n",
        "3. else block (optional):\n",
        "This block is executed if no exceptions are raised within the try block. It can be useful for executing code that should only run when the try block executes successfully.\n",
        "\n",
        "4. finally block (optional):\n",
        "This block always executes, whether or not an exception is raised within the try block. It's commonly used for cleanup operations, such as closing files, releasing resources, or ensuring a database connection is closed, regardless of the outcome of the try and except blocks.\n"
      ],
      "metadata": {
        "id": "AdjU0iz-Qpas"
      }
    },
    {
      "cell_type": "markdown",
      "source": [
        "13.  Why is memory management important in Python?\n",
        "\n",
        "Ans - Memory management is crucial in Python because it directly impacts performance, efficiency, and the overall stability of your applications, especially when dealing with large datasets or complex computations. While Python handles most memory allocation and deallocation automatically, understanding how it works helps you write more efficient and robust code.\n",
        "\n",
        "Avoiding Memory Leaks:\n",
        "Understanding how memory is allocated and released helps prevent \"memory leaks,\" where unused memory is not returned to the system, leading to a gradual increase in memory consumption and potential performance issues.\n",
        "\n",
        "Code Clarity:\n",
        "Understanding how Python handles memory can help you write more focused and readable code by avoiding unnecessary memory allocation or deallocation.\n",
        "\n",
        "Performance:\n",
        "Efficient memory management minimizes the time required for your code to process data and run, leading to faster execution."
      ],
      "metadata": {
        "id": "QreirLZPRCfS"
      }
    },
    {
      "cell_type": "markdown",
      "source": [
        "14. What is the role of try and except in exception handling?\n",
        "\n",
        "Ans - In Python, try and except are used for exception handling, a mechanism to gracefully manage errors that may occur during program execution. The try block encloses code that might raise an exception, while except blocks define the code to execute if a specific exception is encountered within the try block."
      ],
      "metadata": {
        "id": "uJkH3PLoRQ6J"
      }
    },
    {
      "cell_type": "markdown",
      "source": [
        "15. How does Python's garbage collection system work?\n",
        "\n",
        "Ans - Python uses a hybrid approach for garbage collection: reference counting and generational garbage collection. Reference counting identifies objects with no active references and frees their memory immediately. Generational garbage collection uses a mark-and-sweep algorithm to identify and collect objects that are no longer reachable, particularly addressing issues with circular references."
      ],
      "metadata": {
        "id": "wVJGrV7cRtYQ"
      }
    },
    {
      "cell_type": "markdown",
      "source": [
        "16.  What is the purpose of the else block in exception handling?\n",
        "\n",
        "Ans - The else block in exception handling, when used with try...except, executes the code within it only if no exceptions are raised within the try block. It provides a way to execute specific code when the try block's operations are successful, without the need for an exception."
      ],
      "metadata": {
        "id": "gTRQxsw1S9-D"
      }
    },
    {
      "cell_type": "markdown",
      "source": [
        "17. What are the common logging levels in Python?\n",
        "\n",
        "Ans -\n",
        "1. Level - logging.NOTSET\n",
        "   \n",
        "   Numeric Value - 0\n",
        "\n",
        "   Meaning and use - When set on a logger, indicates that ancestor loggers are to be consulted to determine the effective level. If that still resolves to NOTSET, then all events are logged. When set on a handler, all events are handled.\n",
        "\n",
        "2. Level - logging.DEBUG\n",
        "\n",
        "   Numeric Value - 10\n",
        "\n",
        "   Meaning and use - Detailed information, typically only of interest to a developer trying to diagnose a problem.\n",
        "\n",
        "3. Level - logging.INFO\n",
        "\n",
        "   Numeric Value - 20\n",
        "\n",
        "   Meaning and use - Confirmation that things are working as expected.\n",
        "\n",
        "4. Level - logging.WARNING\n",
        "\n",
        "   Numeric Value - 30\n",
        "\n",
        "   Meaning and use - An indication that something unexpected happened, or that a problem might occur in the near future (e.g. ‘disk space low’). The software is still working as expected.\n",
        "\n",
        "5. Level - logging.ERROR\n",
        "\n",
        "   Numeric Value - 40\n",
        "\n",
        "   Meaning and use - Due to a more serious problem, the software has not been able to perform some function.\n",
        "\n",
        "6. Level - logging.CRITICAL\n",
        "\n",
        "   Numeric Value - 50\n",
        "\n",
        "   Meaning and use - A serious error, indicating that the program itself may be unable to continue running."
      ],
      "metadata": {
        "id": "VqWgdvQ2TdfS"
      }
    },
    {
      "cell_type": "markdown",
      "source": [
        "18.  What is the difference between os.fork() and multiprocessing in Python?\n",
        "\n",
        "Ans - os.fork()\n",
        "\n",
        "-> Low-level function: It directly interacts with the operating system to create a child process by duplicating the current process.\n",
        "\n",
        "-> Platform-dependent: Only available on Unix-like systems (Linux, macOS). It does not work on Windows.\n",
        "\n",
        "-> Manual management: You must handle everything yourself — like communication between processes, process cleanup, etc.\n",
        "\n",
        "-> Same memory space initially: The child process gets a copy of the parent's memory (Copy-on-Write), but they do not share changes after the fork.\n",
        "\n"
      ],
      "metadata": {
        "id": "HNXB8E12WHEG"
      }
    },
    {
      "cell_type": "code",
      "source": [
        "#Example\n",
        "import os\n",
        "\n",
        "pid = os.fork()\n",
        "\n",
        "if pid == 0:\n",
        "    print(\"Child process\")\n",
        "else:\n",
        "    print(\"Parent process\")\n"
      ],
      "metadata": {
        "colab": {
          "base_uri": "https://localhost:8080/"
        },
        "id": "YHkFN9blcWQo",
        "outputId": "e0a4577d-9bff-4843-a030-d358e895d491"
      },
      "execution_count": 1,
      "outputs": [
        {
          "output_type": "stream",
          "name": "stdout",
          "text": [
            "Parent process\n"
          ]
        }
      ]
    },
    {
      "cell_type": "markdown",
      "source": [
        "Multiprocessing\n",
        "\n",
        "-> High-level interface: Built on top of os.fork() (on Unix) or Windows equivalents (like CreateProcess), making it cross-platform.\n",
        "\n",
        "-> Process-safe communication: Provides tools like Queue, Pipe, Lock, etc., to safely exchange data between processes.\n",
        "\n",
        "-> Easier and safer to use: Abstracts away a lot of the complexity involved in managing processes.\n",
        "\n",
        "-> Separate memory space: Each process runs in its own memory space — no shared state unless explicitly shared using multiprocessing primitives."
      ],
      "metadata": {
        "id": "e63Nn6gTcgpO"
      }
    },
    {
      "cell_type": "code",
      "source": [
        "#Example\n",
        "from multiprocessing import Process\n",
        "\n",
        "def worker():\n",
        "    print(\"Child process\")\n",
        "\n",
        "p = Process(target=worker)\n",
        "p.start()\n",
        "p.join()\n",
        "print(\"Parent process\")\n"
      ],
      "metadata": {
        "colab": {
          "base_uri": "https://localhost:8080/"
        },
        "id": "CnZz7Mypcybd",
        "outputId": "2460629b-7142-40de-9b96-c32bade538b4"
      },
      "execution_count": 1,
      "outputs": [
        {
          "output_type": "stream",
          "name": "stdout",
          "text": [
            "Child process\n",
            "Parent process\n"
          ]
        }
      ]
    },
    {
      "cell_type": "markdown",
      "source": [
        "19.  What is the importance of closing a file in Python?\n",
        "\n",
        "Ans - Closing files in Python is an essential practice that helps maintain data integrity, prevent resource leaks, and ensure the reliability of your applications. By mastering file handling techniques, you can write more robust and efficient Python code that effectively manages file resources."
      ],
      "metadata": {
        "id": "JujzCqtldRq5"
      }
    },
    {
      "cell_type": "markdown",
      "source": [
        "20. What is the difference between file.read() and file.readline() in Python?\n",
        "\n",
        "Ans - n Python, file.read() reads the entire content of a file into a single string, while file.readline() reads and returns only the next line from the file as a string. file.read() is useful when you want to process the entire file content at once, while file.readline() is better for processing files line by line."
      ],
      "metadata": {
        "id": "1wK-jQq6dZQy"
      }
    },
    {
      "cell_type": "markdown",
      "source": [
        "21. What is the logging module in Python used for?\n",
        "\n",
        "Ans - The logging module in Python is a tool used to record events that occur during the execution of a program. It's a powerful way to track errors, warnings, and informational messages, which is helpful for debugging, troubleshooting, and monitoring your application. Logging provides a structured way to keep a record of what's happening within your code, making it easier to understand the behavior of your application and identify potential issues."
      ],
      "metadata": {
        "id": "D8gIr1uadgSP"
      }
    },
    {
      "cell_type": "markdown",
      "source": [
        "22. What is the os module in Python used for in file handling?\n",
        "\n",
        "Ans - Python has a built-in os module with methods for interacting with the operating system, like creating files and directories, management of files and directories, input, output, environment variables, process management, etc."
      ],
      "metadata": {
        "id": "oorh78f3dqvE"
      }
    },
    {
      "cell_type": "markdown",
      "source": [
        "23. What are the challenges associated with memory management in Python?\n",
        "\n",
        "Ans  -\n",
        "1. Memory Leaks\n",
        "\n",
        "-> Circular References:\n",
        "Python's reference counting system can struggle with circular references where two or more objects point to each other, preventing the garbage collector from deallocating them, leading to memory leaks.\n",
        "\n",
        "-> Unreleased Resources:\n",
        "Memory allocated by a Python program might not be automatically freed when it's no longer needed, potentially leading to gradual memory consumption and slowdowns.\n",
        "\n",
        "-> Impact on Performance:\n",
        "Memory leaks can significantly impact application performance, causing slowdowns, crashes, or errors.\n",
        "\n",
        "-> Cost Implications:\n",
        "For cloud-based applications, memory leaks can lead to increased RAM usage, necessitating upgrades and higher costs.\n",
        "\n",
        "2. Performance Issues\n",
        "\n",
        "-> Garbage Collection Latency:\n",
        "The garbage collector, while beneficial, can introduce latency spikes during collection cycles, which can be a problem in real-time or performance-critical applications\n",
        "\n",
        "-> Fragmentation:\n",
        "Dynamic memory allocation can lead to memory fragmentation, where allocated memory is not contiguous, potentially reducing efficiency and leading to allocation failures.\n",
        "\n",
        "3. Challenges with Large Datasets\n",
        "\n",
        "-> Memory Exhaustion:\n",
        "Working with large datasets can lead to memory errors if the program attempts to load or process too much data at once.\n",
        "\n",
        "4. Other Considerations\n",
        "\n",
        "-> Over-optimization:\n",
        "While optimizing memory usage is important, it's crucial not to over-optimize and sacrifice code readability and maintainability.\n",
        "\n",
        "-> Learning Curve:\n",
        "Understanding the nuances of Python's memory management can require dedicated effort, especially for developers unfamiliar with the inner workings of the language."
      ],
      "metadata": {
        "id": "AOPPf44sdy-i"
      }
    },
    {
      "cell_type": "markdown",
      "source": [
        "24. How do you raise an exception manually in Python?\n",
        "\n",
        "Ans - We can manually raise an exception in Python using the raise keyword. This is super useful when you want to signal that something unexpected or invalid has happened in code.\n",
        "\n"
      ],
      "metadata": {
        "id": "CFT8G0IIy7aL"
      }
    },
    {
      "cell_type": "code",
      "source": [
        "# Basic Syntax\n",
        "try:\n",
        "    # This code might raise an exception\n",
        "    raise Exception(\"Something went wrong!\")\n",
        "except Exception as e:\n",
        "    # Handle the exception here\n",
        "    print(f\"An exception occurred: {e}\")\n",
        "\n",
        "print(\"Code continues executing after the exception.\")"
      ],
      "metadata": {
        "colab": {
          "base_uri": "https://localhost:8080/"
        },
        "id": "Cp8NwQp4zgRz",
        "outputId": "4cfd3fb3-9b75-4c7e-97e6-1cd0e2218608"
      },
      "execution_count": 4,
      "outputs": [
        {
          "output_type": "stream",
          "name": "stdout",
          "text": [
            "An exception occurred: Something went wrong!\n",
            "Code continues executing after the exception.\n"
          ]
        }
      ]
    },
    {
      "cell_type": "markdown",
      "source": [
        "25.  Why is it important to use multithreading in certain applications?\n",
        "\n",
        "Ans -\n",
        "1.  Improves Responsiveness (especially in GUIs)\n",
        "\n",
        "Multithreading keeps the main thread free (like the UI thread), while background tasks (e.g., downloads, I/O) run in parallel.\n",
        "\n",
        "Example: In a GUI app, downloading a file in a separate thread prevents the interface from freezing.\n",
        "\n",
        "2. Better I/O Performance\n",
        "\n",
        "Python threads are useful for I/O-bound tasks — like reading/writing files, making network requests, or waiting for user input.\n",
        "\n",
        "While one thread waits for data (e.g., API call), others can keep running.\n",
        "\n",
        "3. Concurrency Without Forking\n",
        "\n",
        "Threads share the same memory space, making them lighter than spawning new processes. This reduces the overhead of inter-process communication (IPC).\n",
        "\n",
        "Threads are faster to start and use less memory than processes.\n",
        "\n",
        "4. Improved Throughput\n",
        "\n",
        "Multiple threads can handle multiple tasks at once — like serving multiple web requests in a web server — leading to better overall throughput.\n",
        "\n"
      ],
      "metadata": {
        "id": "KbkfKyOUzxok"
      }
    },
    {
      "cell_type": "markdown",
      "source": [
        "# PRACTICAL QUESTIONS\n",
        "\n",
        "1. How can you open a file for writing in Python and write a string to it?"
      ],
      "metadata": {
        "id": "rsbWzX062Fgv"
      }
    },
    {
      "cell_type": "code",
      "source": [
        "# Specify the file name\n",
        "file_name = 'example.txt'\n",
        "\n",
        "# Open the file for writing (this will create the file if it doesn't exist)\n",
        "with open(file_name, 'w') as file:\n",
        "    # Write a string to the file\n",
        "    file.write('Hello, world!')\n",
        "\n",
        "# The file is automatically closed when you exit the 'with' block"
      ],
      "metadata": {
        "id": "9dvDNUKd2V5Y"
      },
      "execution_count": 5,
      "outputs": []
    },
    {
      "cell_type": "code",
      "source": [
        "with open(file_name, 'a') as file:\n",
        "    file.write('Appending this line.\\n')"
      ],
      "metadata": {
        "id": "Oc6Qk2sJ2WuW"
      },
      "execution_count": 6,
      "outputs": []
    },
    {
      "cell_type": "markdown",
      "source": [
        "2. Write a Python program to read the contents of a file and print each line."
      ],
      "metadata": {
        "id": "yQkYrzKC2gyQ"
      }
    },
    {
      "cell_type": "code",
      "source": [
        "# Specify the file name\n",
        "file_name = 'example.txt'\n",
        "\n",
        "# Open the file for reading\n",
        "with open(file_name, 'r') as file:\n",
        "    # Iterate through each line in the file\n",
        "    for line in file:\n",
        "        # Print the line (stripping any trailing newline characters)\n",
        "        print(line.strip())"
      ],
      "metadata": {
        "colab": {
          "base_uri": "https://localhost:8080/"
        },
        "id": "EX9W5J8y2nzr",
        "outputId": "68f22d65-f2f4-4c55-a959-ccb6ac3c2c34"
      },
      "execution_count": 7,
      "outputs": [
        {
          "output_type": "stream",
          "name": "stdout",
          "text": [
            "Hello, world!Appending this line.\n"
          ]
        }
      ]
    },
    {
      "cell_type": "markdown",
      "source": [
        "3.  How would you handle a case where the file doesn't exist while trying to open it for reading?"
      ],
      "metadata": {
        "id": "3QgZuMyp2p8_"
      }
    },
    {
      "cell_type": "code",
      "source": [
        "# Specify the file name\n",
        "file_name = 'example.txt'\n",
        "\n",
        "try:\n",
        "    # Attempt to open the file for reading\n",
        "    with open(file_name, 'r') as file:\n",
        "        # Iterate through each line in the file\n",
        "        for line in file:\n",
        "            # Print the line (stripping any trailing newline characters)\n",
        "            print(line.strip())\n",
        "except FileNotFoundError:\n",
        "    # Handle the case where the file does not exist\n",
        "    print(f\"The file '{file_name}' does not exist.\")\n",
        "except Exception as e:\n",
        "    # Handle any other exceptions that may occur\n",
        "    print(f\"An error occurred: {e}\")"
      ],
      "metadata": {
        "colab": {
          "base_uri": "https://localhost:8080/"
        },
        "id": "YV5ZiRHK2vIm",
        "outputId": "2784fd4c-31bd-4a25-9435-579a075131e1"
      },
      "execution_count": 8,
      "outputs": [
        {
          "output_type": "stream",
          "name": "stdout",
          "text": [
            "Hello, world!Appending this line.\n"
          ]
        }
      ]
    },
    {
      "cell_type": "markdown",
      "source": [
        "4.  Write a Python script that reads from one file and writes its content to another file."
      ],
      "metadata": {
        "id": "NtuaqvB43DlY"
      }
    },
    {
      "cell_type": "code",
      "source": [
        "# Specify the source and destination file names\n",
        "source_file_name = 'source.txt'\n",
        "destination_file_name = 'destination.txt'\n",
        "\n",
        "try:\n",
        "    # Open the source file for reading\n",
        "    with open(source_file_name, 'r') as source_file:\n",
        "        # Open the destination file for writing\n",
        "        with open(destination_file_name, 'w') as destination_file:\n",
        "            # Read each line from the source file and write it to the destination file\n",
        "            for line in source_file:\n",
        "                destination_file.write(line)\n",
        "\n",
        "    print(f\"Contents of '{source_file_name}' have been written to '{destination_file_name}'.\")\n",
        "\n",
        "except FileNotFoundError:\n",
        "    print(f\"The file '{source_file_name}' does not exist.\")\n",
        "except Exception as e:\n",
        "    print(f\"An error occurred: {e}\")"
      ],
      "metadata": {
        "colab": {
          "base_uri": "https://localhost:8080/"
        },
        "id": "BBZTD1jU3IaI",
        "outputId": "8b60710e-4e1b-4aab-a5d8-30ed79950e07"
      },
      "execution_count": 9,
      "outputs": [
        {
          "output_type": "stream",
          "name": "stdout",
          "text": [
            "The file 'source.txt' does not exist.\n"
          ]
        }
      ]
    },
    {
      "cell_type": "markdown",
      "source": [
        "5.  How would you catch and handle division by zero error in Python?"
      ],
      "metadata": {
        "id": "s1dixLyZ3TJc"
      }
    },
    {
      "cell_type": "code",
      "source": [
        "def divide_numbers(num1, num2):\n",
        "    try:\n",
        "        # Attempt to perform the division\n",
        "        result = num1 / num2\n",
        "        print(f\"The result of {num1} divided by {num2} is {result}.\")\n",
        "    except ZeroDivisionError:\n",
        "        # Handle the case where division by zero occurs\n",
        "        print(\"Error: Division by zero is not allowed.\")\n",
        "    except Exception as e:\n",
        "        # Handle any other exceptions that may occur\n",
        "        print(f\"An error occurred: {e}\")\n",
        "\n",
        "# Example usage\n",
        "divide_numbers(10, 2)  # This will work\n",
        "divide_numbers(10, 0)  # This will raise a ZeroDivisionError"
      ],
      "metadata": {
        "colab": {
          "base_uri": "https://localhost:8080/"
        },
        "id": "0h0JccsJ3Zfb",
        "outputId": "3fd37486-9736-4e03-c943-eea5ddd82fd6"
      },
      "execution_count": 10,
      "outputs": [
        {
          "output_type": "stream",
          "name": "stdout",
          "text": [
            "The result of 10 divided by 2 is 5.0.\n",
            "Error: Division by zero is not allowed.\n"
          ]
        }
      ]
    },
    {
      "cell_type": "markdown",
      "source": [
        "6.  Write a Python program that logs an error message to a log file when a division by zero exception occurs."
      ],
      "metadata": {
        "id": "xXwaU3263iEG"
      }
    },
    {
      "cell_type": "code",
      "source": [
        "import logging\n",
        "\n",
        "# Configure the logging\n",
        "logging.basicConfig(filename='error.log', level=logging.ERROR,\n",
        "                    format='%(asctime)s - %(levelname)s - %(message)s')\n",
        "\n",
        "def divide_numbers(num1, num2):\n",
        "    try:\n",
        "        # Attempt to perform the division\n",
        "        result = num1 / num2\n",
        "        print(f\"The result of {num1} divided by {num2} is {result}.\")\n",
        "    except ZeroDivisionError:\n",
        "        # Log the error message to the log file\n",
        "        logging.error(\"Division by zero error: Attempted to divide %s by zero.\", num1)\n",
        "        print(\"Error: Division by zero is not allowed. The error has been logged.\")\n",
        "    except Exception as e:\n",
        "        # Log any other exceptions that may occur\n",
        "        logging.error(\"An unexpected error occurred: %s\", e)\n",
        "        print(f\"An error occurred: {e}\")\n",
        "\n",
        "# Example usage\n",
        "divide_numbers(10, 2)  # This will work\n",
        "divide_numbers(10, 0)  # This will raise a ZeroDivisionError"
      ],
      "metadata": {
        "colab": {
          "base_uri": "https://localhost:8080/"
        },
        "id": "MwxOlE9B3nXa",
        "outputId": "4def80dc-5040-4083-f5a1-ae23afce4b5c"
      },
      "execution_count": 11,
      "outputs": [
        {
          "output_type": "stream",
          "name": "stderr",
          "text": [
            "ERROR:root:Division by zero error: Attempted to divide 10 by zero.\n"
          ]
        },
        {
          "output_type": "stream",
          "name": "stdout",
          "text": [
            "The result of 10 divided by 2 is 5.0.\n",
            "Error: Division by zero is not allowed. The error has been logged.\n"
          ]
        }
      ]
    },
    {
      "cell_type": "markdown",
      "source": [
        "7.  How do you log information at different levels (INFO, ERROR, WARNING) in Python using the logging module?"
      ],
      "metadata": {
        "id": "WvYhmRg83xnt"
      }
    },
    {
      "cell_type": "code",
      "source": [
        "import logging\n",
        "\n",
        "# Configure the logging\n",
        "logging.basicConfig(level=logging.DEBUG,  # Set the logging level to DEBUG to capture all levels\n",
        "                    format='%(asctime)s - %(levelname)s - %(message)s',\n",
        "                    filename='app.log',  # Log messages will be written to this file\n",
        "                    filemode='w')  # 'w' to overwrite the log file each time\n",
        "\n",
        "# Logging messages at different levels\n",
        "def log_messages():\n",
        "    logging.debug(\"This is a debug message, useful for diagnosing issues.\")\n",
        "    logging.info(\"This is an info message, providing general information.\")\n",
        "    logging.warning(\"This is a warning message, indicating a potential problem.\")\n",
        "    logging.error(\"This is an error message, indicating an error occurred.\")\n",
        "    logging.critical(\"This is a critical message, indicating a serious error.\")\n",
        "\n",
        "# Call the function to log messages\n",
        "log_messages()"
      ],
      "metadata": {
        "colab": {
          "base_uri": "https://localhost:8080/"
        },
        "id": "wfBrk7Xs36oi",
        "outputId": "143fda47-d5b6-4679-ae0d-9b91bcce1d9e"
      },
      "execution_count": 12,
      "outputs": [
        {
          "output_type": "stream",
          "name": "stderr",
          "text": [
            "WARNING:root:This is a warning message, indicating a potential problem.\n",
            "ERROR:root:This is an error message, indicating an error occurred.\n",
            "CRITICAL:root:This is a critical message, indicating a serious error.\n"
          ]
        }
      ]
    },
    {
      "cell_type": "markdown",
      "source": [
        "8.  Write a program to handle a file opening error using exception handling."
      ],
      "metadata": {
        "id": "zFJ5fSK84G1r"
      }
    },
    {
      "cell_type": "code",
      "source": [
        "def read_file(file_name):\n",
        "    try:\n",
        "        # Attempt to open the file for reading\n",
        "        with open(file_name, 'r') as file:\n",
        "            # Read and print the contents of the file\n",
        "            contents = file.read()\n",
        "            print(\"File contents:\")\n",
        "            print(contents)\n",
        "    except FileNotFoundError:\n",
        "        # Handle the case where the file does not exist\n",
        "        print(f\"Error: The file '{file_name}' does not exist.\")\n",
        "    except PermissionError:\n",
        "        # Handle the case where the file cannot be opened due to permission issues\n",
        "        print(f\"Error: You do not have permission to open the file '{file_name}'.\")\n",
        "    except Exception as e:\n",
        "        # Handle any other exceptions that may occur\n",
        "        print(f\"An unexpected error occurred: {e}\")\n",
        "\n",
        "# Example usage\n",
        "file_name = 'example.txt'  # Change this to the name of the file you want to read\n",
        "read_file(file_name)"
      ],
      "metadata": {
        "colab": {
          "base_uri": "https://localhost:8080/"
        },
        "id": "qnKqdmfA4S85",
        "outputId": "258530e1-b3b4-4ba5-bc23-13889e1fec26"
      },
      "execution_count": 13,
      "outputs": [
        {
          "output_type": "stream",
          "name": "stdout",
          "text": [
            "File contents:\n",
            "Hello, world!Appending this line.\n",
            "\n"
          ]
        }
      ]
    },
    {
      "cell_type": "markdown",
      "source": [
        "9. How can you read a file line by line and store its content in a list in Python?"
      ],
      "metadata": {
        "id": "SBjLcJju4rGn"
      }
    },
    {
      "cell_type": "code",
      "source": [
        "def read_file_to_list(file_name):\n",
        "    lines = []  # Initialize an empty list to store the lines\n",
        "    try:\n",
        "        # Open the file for reading\n",
        "        with open(file_name, 'r') as file:\n",
        "            # Iterate through each line in the file\n",
        "            for line in file:\n",
        "                # Strip any leading/trailing whitespace and add the line to the list\n",
        "                lines.append(line.strip())\n",
        "    except FileNotFoundError:\n",
        "        print(f\"Error: The file '{file_name}' does not exist.\")\n",
        "    except Exception as e:\n",
        "        print(f\"An unexpected error occurred: {e}\")\n",
        "\n",
        "    return lines  # Return the list of lines\n",
        "\n",
        "# Example usage\n",
        "file_name = 'example.txt'  # Change this to the name of the file you want to read\n",
        "lines_list = read_file_to_list(file_name)\n",
        "\n",
        "# Print the list of lines\n",
        "print(\"Lines read from the file:\")\n",
        "for line in lines_list:\n",
        "    print(line)"
      ],
      "metadata": {
        "colab": {
          "base_uri": "https://localhost:8080/"
        },
        "id": "cJxLlsMG4_Zj",
        "outputId": "c47df002-8d76-46e2-e371-3e8fbac69068"
      },
      "execution_count": 14,
      "outputs": [
        {
          "output_type": "stream",
          "name": "stdout",
          "text": [
            "Lines read from the file:\n",
            "Hello, world!Appending this line.\n"
          ]
        }
      ]
    },
    {
      "cell_type": "markdown",
      "source": [
        "10.  How can you append data to an existing file in Python?"
      ],
      "metadata": {
        "id": "YMpEcvRe5MgY"
      }
    },
    {
      "cell_type": "code",
      "source": [
        "def append_to_file(file_name, data):\n",
        "    try:\n",
        "        # Open the file in append mode\n",
        "        with open(file_name, 'a') as file:\n",
        "            # Write the data to the file\n",
        "            file.write(data + '\\n')  # Adding a newline character for better formatting\n",
        "        print(f\"Data appended to '{file_name}' successfully.\")\n",
        "    except Exception as e:\n",
        "        print(f\"An error occurred while appending to the file: {e}\")\n",
        "\n",
        "# Example usage\n",
        "file_name = 'example.txt'  # Change this to the name of the file you want to append to\n",
        "data_to_append = \"This is a new line of text.\"  # The data you want to append\n",
        "append_to_file(file_name, data_to_append)"
      ],
      "metadata": {
        "colab": {
          "base_uri": "https://localhost:8080/"
        },
        "id": "KJDVPfKZ5RfJ",
        "outputId": "1f8d8662-ef11-41cb-c04d-5bd5e54bd51b"
      },
      "execution_count": 15,
      "outputs": [
        {
          "output_type": "stream",
          "name": "stdout",
          "text": [
            "Data appended to 'example.txt' successfully.\n"
          ]
        }
      ]
    },
    {
      "cell_type": "markdown",
      "source": [
        "11.  Write a Python program that uses a try-except block to handle an error when attempting to access a dictionary key that doesn't exist."
      ],
      "metadata": {
        "id": "U9gzei2_5fvU"
      }
    },
    {
      "cell_type": "code",
      "source": [
        "def access_dictionary_key(my_dict, key):\n",
        "    try:\n",
        "        # Attempt to access the value associated with the specified key\n",
        "        value = my_dict[key]\n",
        "        print(f\"The value for the key '{key}' is: {value}\")\n",
        "    except KeyError:\n",
        "        # Handle the case where the key does not exist in the dictionary\n",
        "        print(f\"Error: The key '{key}' does not exist in the dictionary.\")\n",
        "    except Exception as e:\n",
        "        # Handle any other unexpected exceptions\n",
        "        print(f\"An unexpected error occurred: {e}\")\n",
        "\n",
        "# Example usage\n",
        "my_dict = {\n",
        "    'name': 'Alice',\n",
        "    'age': 30,\n",
        "    'city': 'New York'\n",
        "}\n",
        "\n",
        "# Attempt to access a key that exists\n",
        "access_dictionary_key(my_dict, 'name')  # This will work\n",
        "\n",
        "# Attempt to access a key that does not exist\n",
        "access_dictionary_key(my_dict, 'country')  # This will raise a KeyError"
      ],
      "metadata": {
        "colab": {
          "base_uri": "https://localhost:8080/"
        },
        "id": "MjlbH_M85phK",
        "outputId": "5b1f6386-96b7-49c6-f296-7bdb366e896e"
      },
      "execution_count": 16,
      "outputs": [
        {
          "output_type": "stream",
          "name": "stdout",
          "text": [
            "The value for the key 'name' is: Alice\n",
            "Error: The key 'country' does not exist in the dictionary.\n"
          ]
        }
      ]
    },
    {
      "cell_type": "markdown",
      "source": [
        "12. Write a program that demonstrates using multiple except blocks to handle different types of exceptions."
      ],
      "metadata": {
        "id": "vSNCd4PN5y5w"
      }
    },
    {
      "cell_type": "code",
      "source": [
        "def demonstrate_exceptions():\n",
        "    # Example 1: Division by zero\n",
        "    try:\n",
        "        numerator = 10\n",
        "        denominator = 0\n",
        "        result = numerator / denominator\n",
        "        print(f\"Result of division: {result}\")\n",
        "    except ZeroDivisionError:\n",
        "        print(\"Error: Division by zero is not allowed.\")\n",
        "\n",
        "    # Example 2: Index out of range\n",
        "    my_list = [1, 2, 3]\n",
        "    try:\n",
        "        index = 5\n",
        "        value = my_list[index]\n",
        "        print(f\"Value at index {index}: {value}\")\n",
        "    except IndexError:\n",
        "        print(f\"Error: Index {index} is out of range for the list.\")\n",
        "\n",
        "    # Example 3: ValueError when converting string to integer\n",
        "    try:\n",
        "        string_value = \"abc\"\n",
        "        int_value = int(string_value)\n",
        "        print(f\"Converted integer value: {int_value}\")\n",
        "    except ValueError:\n",
        "        print(f\"Error: Cannot convert '{string_value}' to an integer.\")\n",
        "\n",
        "    # Example 4: Catching a general exception\n",
        "    try:\n",
        "        # This will raise a TypeError\n",
        "        result = \"string\" + 5\n",
        "        print(f\"Result of addition: {result}\")\n",
        "    except TypeError:\n",
        "        print(\"Error: Cannot concatenate a string and an integer.\")\n",
        "\n",
        "# Call the function to demonstrate exceptions\n",
        "demonstrate_exceptions()"
      ],
      "metadata": {
        "colab": {
          "base_uri": "https://localhost:8080/"
        },
        "id": "n1FWX-KG54N7",
        "outputId": "cd3a4ad9-d165-4cfa-aca5-3c239f40ea26"
      },
      "execution_count": 17,
      "outputs": [
        {
          "output_type": "stream",
          "name": "stdout",
          "text": [
            "Error: Division by zero is not allowed.\n",
            "Error: Index 5 is out of range for the list.\n",
            "Error: Cannot convert 'abc' to an integer.\n",
            "Error: Cannot concatenate a string and an integer.\n"
          ]
        }
      ]
    },
    {
      "cell_type": "markdown",
      "source": [
        "13.  How would you check if a file exists before attempting to read it in Python?"
      ],
      "metadata": {
        "id": "xuBZ9m_G6DYG"
      }
    },
    {
      "cell_type": "code",
      "source": [
        "# Using the 'os' module\n",
        "import os\n",
        "\n",
        "def read_file_if_exists(file_name):\n",
        "    # Check if the file exists\n",
        "    if os.path.exists(file_name):\n",
        "        try:\n",
        "            with open(file_name, 'r') as file:\n",
        "                contents = file.read()\n",
        "                print(\"File contents:\")\n",
        "                print(contents)\n",
        "        except Exception as e:\n",
        "            print(f\"An error occurred while reading the file: {e}\")\n",
        "    else:\n",
        "        print(f\"Error: The file '{file_name}' does not exist.\")\n",
        "\n",
        "# Example usage\n",
        "file_name = 'example.txt'  # Change this to the name of the file you want to read\n",
        "read_file_if_exists(file_name)"
      ],
      "metadata": {
        "colab": {
          "base_uri": "https://localhost:8080/"
        },
        "id": "Md9FZ-tb6HfP",
        "outputId": "fd4b3e63-0b7d-42fc-f16e-defc44cd0684"
      },
      "execution_count": 18,
      "outputs": [
        {
          "output_type": "stream",
          "name": "stdout",
          "text": [
            "File contents:\n",
            "Hello, world!Appending this line.\n",
            "This is a new line of text.\n",
            "\n"
          ]
        }
      ]
    },
    {
      "cell_type": "code",
      "source": [
        "# Using the 'pathlib' module\n",
        "from pathlib import Path\n",
        "\n",
        "def read_file_if_exists(file_name):\n",
        "    # Create a Path object\n",
        "    file_path = Path(file_name)\n",
        "\n",
        "    # Check if the file exists\n",
        "    if file_path.exists():\n",
        "        try:\n",
        "            with file_path.open('r') as file:\n",
        "                contents = file.read()\n",
        "                print(\"File contents:\")\n",
        "                print(contents)\n",
        "        except Exception as e:\n",
        "            print(f\"An error occurred while reading the file: {e}\")\n",
        "    else:\n",
        "        print(f\"Error: The file '{file_name}' does not exist.\")\n",
        "\n",
        "# Example usage\n",
        "file_name = 'example.txt'  # Change this to the name of the file you want to read\n",
        "read_file_if_exists(file_name)"
      ],
      "metadata": {
        "colab": {
          "base_uri": "https://localhost:8080/"
        },
        "id": "5ObHMfKx6XTQ",
        "outputId": "d35b085b-ef2b-4f4f-df1b-97388746faab"
      },
      "execution_count": 19,
      "outputs": [
        {
          "output_type": "stream",
          "name": "stdout",
          "text": [
            "File contents:\n",
            "Hello, world!Appending this line.\n",
            "This is a new line of text.\n",
            "\n"
          ]
        }
      ]
    },
    {
      "cell_type": "markdown",
      "source": [
        "14.  Write a program that uses the logging module to log both informational and error messages."
      ],
      "metadata": {
        "id": "IFKwlWhx6h2j"
      }
    },
    {
      "cell_type": "code",
      "source": [
        "import logging\n",
        "\n",
        "# Configure the logging\n",
        "logging.basicConfig(\n",
        "    level=logging.DEBUG,  # Set the logging level to DEBUG to capture all types of log messages\n",
        "    format='%(asctime)s - %(levelname)s - %(message)s',  # Log message format\n",
        "    handlers=[\n",
        "        logging.FileHandler(\"app.log\"),  # Log to a file named 'app.log'\n",
        "        logging.StreamHandler()  # Also log to the console\n",
        "    ]\n",
        ")\n",
        "\n",
        "def perform_operations():\n",
        "    logging.info(\"Starting the operations...\")  # Log an informational message\n",
        "\n",
        "    try:\n",
        "        # Simulate a successful operation\n",
        "        result = 10 / 2\n",
        "        logging.info(f\"Operation successful, result: {result}\")\n",
        "\n",
        "        # Simulate an error (division by zero)\n",
        "        result = 10 / 0  # This will raise a ZeroDivisionError\n",
        "    except ZeroDivisionError as e:\n",
        "        logging.error(\"An error occurred: Division by zero.\", exc_info=True)  # Log an error message with exception info\n",
        "\n",
        "    logging.info(\"Operations completed.\")\n",
        "\n",
        "# Call the function to perform operations and log messages\n",
        "perform_operations()"
      ],
      "metadata": {
        "colab": {
          "base_uri": "https://localhost:8080/"
        },
        "id": "fDVwyDEm6vYW",
        "outputId": "955e7282-3049-4506-d9f7-bbf674db7313"
      },
      "execution_count": 20,
      "outputs": [
        {
          "output_type": "stream",
          "name": "stderr",
          "text": [
            "ERROR:root:An error occurred: Division by zero.\n",
            "Traceback (most recent call last):\n",
            "  File \"<ipython-input-20-f19f89626634>\", line 22, in perform_operations\n",
            "    result = 10 / 0  # This will raise a ZeroDivisionError\n",
            "             ~~~^~~\n",
            "ZeroDivisionError: division by zero\n"
          ]
        }
      ]
    },
    {
      "cell_type": "markdown",
      "source": [
        "15.  Write a Python program that prints the content of a file and handles the case when the file is empty."
      ],
      "metadata": {
        "id": "fv_lcMcd6xFv"
      }
    },
    {
      "cell_type": "code",
      "source": [
        "def print_file_content(file_name):\n",
        "    try:\n",
        "        with open(file_name, 'r') as file:\n",
        "            content = file.read()  # Read the entire content of the file\n",
        "\n",
        "            if not content:  # Check if the content is empty\n",
        "                print(f\"The file '{file_name}' is empty.\")\n",
        "            else:\n",
        "                print(\"File contents:\")\n",
        "                print(content)\n",
        "    except FileNotFoundError:\n",
        "        print(f\"Error: The file '{file_name}' does not exist.\")\n",
        "    except Exception as e:\n",
        "        print(f\"An unexpected error occurred: {e}\")\n",
        "\n",
        "# Example usage\n",
        "file_name = 'example.txt'  # Change this to the name of the file you want to read\n",
        "print_file_content(file_name)"
      ],
      "metadata": {
        "colab": {
          "base_uri": "https://localhost:8080/"
        },
        "id": "yolj4vLn63l6",
        "outputId": "a5d91167-c4aa-4d82-9dc0-4b8d31c48473"
      },
      "execution_count": 21,
      "outputs": [
        {
          "output_type": "stream",
          "name": "stdout",
          "text": [
            "File contents:\n",
            "Hello, world!Appending this line.\n",
            "This is a new line of text.\n",
            "\n"
          ]
        }
      ]
    },
    {
      "cell_type": "markdown",
      "source": [
        "16.  Demonstrate how to use memory profiling to check the memory usage of a small program."
      ],
      "metadata": {
        "id": "hoYPCC0f69O6"
      }
    },
    {
      "cell_type": "code",
      "source": [
        "!python3 -m pip install memray"
      ],
      "metadata": {
        "colab": {
          "base_uri": "https://localhost:8080/"
        },
        "id": "9n2rIMl67Ayj",
        "outputId": "1b07b2bd-530a-455f-9a81-272c28e40688"
      },
      "execution_count": 23,
      "outputs": [
        {
          "output_type": "stream",
          "name": "stdout",
          "text": [
            "Collecting memray\n",
            "  Downloading memray-1.17.1-cp311-cp311-manylinux_2_17_x86_64.manylinux2014_x86_64.whl.metadata (20 kB)\n",
            "Requirement already satisfied: jinja2>=2.9 in /usr/local/lib/python3.11/dist-packages (from memray) (3.1.6)\n",
            "Requirement already satisfied: rich>=11.2.0 in /usr/local/lib/python3.11/dist-packages (from memray) (13.9.4)\n",
            "Collecting textual>=0.41.0 (from memray)\n",
            "  Downloading textual-3.1.0-py3-none-any.whl.metadata (9.0 kB)\n",
            "Requirement already satisfied: MarkupSafe>=2.0 in /usr/local/lib/python3.11/dist-packages (from jinja2>=2.9->memray) (3.0.2)\n",
            "Requirement already satisfied: markdown-it-py>=2.2.0 in /usr/local/lib/python3.11/dist-packages (from rich>=11.2.0->memray) (3.0.0)\n",
            "Requirement already satisfied: pygments<3.0.0,>=2.13.0 in /usr/local/lib/python3.11/dist-packages (from rich>=11.2.0->memray) (2.18.0)\n",
            "Requirement already satisfied: platformdirs<5,>=3.6.0 in /usr/local/lib/python3.11/dist-packages (from textual>=0.41.0->memray) (4.3.7)\n",
            "Requirement already satisfied: typing-extensions<5.0.0,>=4.4.0 in /usr/local/lib/python3.11/dist-packages (from textual>=0.41.0->memray) (4.13.1)\n",
            "Requirement already satisfied: mdurl~=0.1 in /usr/local/lib/python3.11/dist-packages (from markdown-it-py>=2.2.0->rich>=11.2.0->memray) (0.1.2)\n",
            "Requirement already satisfied: linkify-it-py<3,>=1 in /usr/local/lib/python3.11/dist-packages (from markdown-it-py[linkify,plugins]>=2.1.0->textual>=0.41.0->memray) (2.0.3)\n",
            "Requirement already satisfied: mdit-py-plugins in /usr/local/lib/python3.11/dist-packages (from markdown-it-py[linkify,plugins]>=2.1.0->textual>=0.41.0->memray) (0.4.2)\n",
            "Requirement already satisfied: uc-micro-py in /usr/local/lib/python3.11/dist-packages (from linkify-it-py<3,>=1->markdown-it-py[linkify,plugins]>=2.1.0->textual>=0.41.0->memray) (1.0.3)\n",
            "Downloading memray-1.17.1-cp311-cp311-manylinux_2_17_x86_64.manylinux2014_x86_64.whl (8.5 MB)\n",
            "\u001b[2K   \u001b[90m━━━━━━━━━━━━━━━━━━━━━━━━━━━━━━━━━━━━━━━━\u001b[0m \u001b[32m8.5/8.5 MB\u001b[0m \u001b[31m55.5 MB/s\u001b[0m eta \u001b[36m0:00:00\u001b[0m\n",
            "\u001b[?25hDownloading textual-3.1.0-py3-none-any.whl (683 kB)\n",
            "\u001b[2K   \u001b[90m━━━━━━━━━━━━━━━━━━━━━━━━━━━━━━━━━━━━━━━━\u001b[0m \u001b[32m683.8/683.8 kB\u001b[0m \u001b[31m36.7 MB/s\u001b[0m eta \u001b[36m0:00:00\u001b[0m\n",
            "\u001b[?25hInstalling collected packages: textual, memray\n",
            "Successfully installed memray-1.17.1 textual-3.1.0\n"
          ]
        }
      ]
    },
    {
      "cell_type": "code",
      "source": [
        "!memray run my_script.py"
      ],
      "metadata": {
        "colab": {
          "base_uri": "https://localhost:8080/"
        },
        "id": "67cL6hDw7QTA",
        "outputId": "001252c6-00ac-423b-85f7-8a7c7344cc09"
      },
      "execution_count": 25,
      "outputs": [
        {
          "output_type": "stream",
          "name": "stdout",
          "text": [
            "Traceback (most recent call last):\n",
            "  File \"/usr/local/bin/memray\", line 8, in <module>\n",
            "    sys.exit(main())\n",
            "             ^^^^^^\n",
            "  File \"/usr/local/lib/python3.11/dist-packages/memray/commands/__init__.py\", line 138, in main\n",
            "    arg_values.entrypoint(arg_values, parser)\n",
            "  File \"/usr/local/lib/python3.11/dist-packages/memray/commands/run.py\", line 332, in run\n",
            "    self.validate_target_file(args)\n",
            "  File \"/usr/local/lib/python3.11/dist-packages/memray/commands/run.py\", line 310, in validate_target_file\n",
            "    source = pathlib.Path(args.script).read_bytes()\n",
            "             ^^^^^^^^^^^^^^^^^^^^^^^^^^^^^^^^^^^^^^\n",
            "  File \"/usr/lib/python3.11/pathlib.py\", line 1050, in read_bytes\n",
            "    with self.open(mode='rb') as f:\n",
            "         ^^^^^^^^^^^^^^^^^^^^\n",
            "  File \"/usr/lib/python3.11/pathlib.py\", line 1044, in open\n",
            "    return io.open(self, mode, buffering, encoding, errors, newline)\n",
            "           ^^^^^^^^^^^^^^^^^^^^^^^^^^^^^^^^^^^^^^^^^^^^^^^^^^^^^^^^^\n",
            "FileNotFoundError: [Errno 2] No such file or directory: 'my_script.py'\n"
          ]
        }
      ]
    },
    {
      "cell_type": "code",
      "source": [
        "!memray flamegraph my_script.1234.bin"
      ],
      "metadata": {
        "colab": {
          "base_uri": "https://localhost:8080/"
        },
        "id": "IU4y_iwn7XXU",
        "outputId": "09f41ee3-5ffe-4698-ce0c-56de58217b4f"
      },
      "execution_count": 27,
      "outputs": [
        {
          "output_type": "stream",
          "name": "stdout",
          "text": [
            "No such file: my_script.1234.bin\n"
          ]
        }
      ]
    },
    {
      "cell_type": "code",
      "source": [
        "def allocate_memory():\n",
        "    # Simulate memory allocation\n",
        "    data = [i for i in range(1000000)]\n",
        "    return data\n",
        "\n",
        "if __name__ == \"__main__\":\n",
        "    allocate_memory()"
      ],
      "metadata": {
        "id": "tnSdd2qU7epu"
      },
      "execution_count": 28,
      "outputs": []
    },
    {
      "cell_type": "code",
      "source": [
        "!memray run my_script.py"
      ],
      "metadata": {
        "colab": {
          "base_uri": "https://localhost:8080/"
        },
        "id": "MW2LHWwB7h0x",
        "outputId": "88b31e6c-d1d3-417c-d176-cd70193ad5e2"
      },
      "execution_count": 30,
      "outputs": [
        {
          "output_type": "stream",
          "name": "stdout",
          "text": [
            "Traceback (most recent call last):\n",
            "  File \"/usr/local/bin/memray\", line 8, in <module>\n",
            "    sys.exit(main())\n",
            "             ^^^^^^\n",
            "  File \"/usr/local/lib/python3.11/dist-packages/memray/commands/__init__.py\", line 138, in main\n",
            "    arg_values.entrypoint(arg_values, parser)\n",
            "  File \"/usr/local/lib/python3.11/dist-packages/memray/commands/run.py\", line 332, in run\n",
            "    self.validate_target_file(args)\n",
            "  File \"/usr/local/lib/python3.11/dist-packages/memray/commands/run.py\", line 310, in validate_target_file\n",
            "    source = pathlib.Path(args.script).read_bytes()\n",
            "             ^^^^^^^^^^^^^^^^^^^^^^^^^^^^^^^^^^^^^^\n",
            "  File \"/usr/lib/python3.11/pathlib.py\", line 1050, in read_bytes\n",
            "    with self.open(mode='rb') as f:\n",
            "         ^^^^^^^^^^^^^^^^^^^^\n",
            "  File \"/usr/lib/python3.11/pathlib.py\", line 1044, in open\n",
            "    return io.open(self, mode, buffering, encoding, errors, newline)\n",
            "           ^^^^^^^^^^^^^^^^^^^^^^^^^^^^^^^^^^^^^^^^^^^^^^^^^^^^^^^^^\n",
            "FileNotFoundError: [Errno 2] No such file or directory: 'my_script.py'\n"
          ]
        }
      ]
    },
    {
      "cell_type": "code",
      "source": [
        "!memray flamegraph my_script.1234.bin"
      ],
      "metadata": {
        "colab": {
          "base_uri": "https://localhost:8080/"
        },
        "id": "CT4RUTJ97nZr",
        "outputId": "6e7b8d84-c36d-45a9-cd1c-c14ce20f6b1c"
      },
      "execution_count": 32,
      "outputs": [
        {
          "output_type": "stream",
          "name": "stdout",
          "text": [
            "No such file: my_script.1234.bin\n"
          ]
        }
      ]
    },
    {
      "cell_type": "code",
      "source": [
        "!memray run --live my_script.py"
      ],
      "metadata": {
        "colab": {
          "base_uri": "https://localhost:8080/"
        },
        "id": "2EP8ICgL7vZa",
        "outputId": "9ad3e7d3-887e-4782-f308-5647bd3456ac"
      },
      "execution_count": 34,
      "outputs": [
        {
          "output_type": "stream",
          "name": "stdout",
          "text": [
            "Traceback (most recent call last):\n",
            "  File \"/usr/local/bin/memray\", line 8, in <module>\n",
            "    sys.exit(main())\n",
            "             ^^^^^^\n",
            "  File \"/usr/local/lib/python3.11/dist-packages/memray/commands/__init__.py\", line 138, in main\n",
            "    arg_values.entrypoint(arg_values, parser)\n",
            "  File \"/usr/local/lib/python3.11/dist-packages/memray/commands/run.py\", line 332, in run\n",
            "    self.validate_target_file(args)\n",
            "  File \"/usr/local/lib/python3.11/dist-packages/memray/commands/run.py\", line 310, in validate_target_file\n",
            "    source = pathlib.Path(args.script).read_bytes()\n",
            "             ^^^^^^^^^^^^^^^^^^^^^^^^^^^^^^^^^^^^^^\n",
            "  File \"/usr/lib/python3.11/pathlib.py\", line 1050, in read_bytes\n",
            "    with self.open(mode='rb') as f:\n",
            "         ^^^^^^^^^^^^^^^^^^^^\n",
            "  File \"/usr/lib/python3.11/pathlib.py\", line 1044, in open\n",
            "    return io.open(self, mode, buffering, encoding, errors, newline)\n",
            "           ^^^^^^^^^^^^^^^^^^^^^^^^^^^^^^^^^^^^^^^^^^^^^^^^^^^^^^^^^\n",
            "FileNotFoundError: [Errno 2] No such file or directory: 'my_script.py'\n"
          ]
        }
      ]
    },
    {
      "cell_type": "code",
      "source": [
        "!memray run --native my_script.py"
      ],
      "metadata": {
        "colab": {
          "base_uri": "https://localhost:8080/"
        },
        "id": "iunL1HW970s2",
        "outputId": "2a05c6d3-f0f1-4e2d-cc0f-8c66dc3edc7c"
      },
      "execution_count": 36,
      "outputs": [
        {
          "output_type": "stream",
          "name": "stdout",
          "text": [
            "Traceback (most recent call last):\n",
            "  File \"/usr/local/bin/memray\", line 8, in <module>\n",
            "    sys.exit(main())\n",
            "             ^^^^^^\n",
            "  File \"/usr/local/lib/python3.11/dist-packages/memray/commands/__init__.py\", line 138, in main\n",
            "    arg_values.entrypoint(arg_values, parser)\n",
            "  File \"/usr/local/lib/python3.11/dist-packages/memray/commands/run.py\", line 332, in run\n",
            "    self.validate_target_file(args)\n",
            "  File \"/usr/local/lib/python3.11/dist-packages/memray/commands/run.py\", line 310, in validate_target_file\n",
            "    source = pathlib.Path(args.script).read_bytes()\n",
            "             ^^^^^^^^^^^^^^^^^^^^^^^^^^^^^^^^^^^^^^\n",
            "  File \"/usr/lib/python3.11/pathlib.py\", line 1050, in read_bytes\n",
            "    with self.open(mode='rb') as f:\n",
            "         ^^^^^^^^^^^^^^^^^^^^\n",
            "  File \"/usr/lib/python3.11/pathlib.py\", line 1044, in open\n",
            "    return io.open(self, mode, buffering, encoding, errors, newline)\n",
            "           ^^^^^^^^^^^^^^^^^^^^^^^^^^^^^^^^^^^^^^^^^^^^^^^^^^^^^^^^^\n",
            "FileNotFoundError: [Errno 2] No such file or directory: 'my_script.py'\n"
          ]
        }
      ]
    },
    {
      "cell_type": "markdown",
      "source": [
        "17. Write a Python program to create and write a list of numbers to a file, one number per line."
      ],
      "metadata": {
        "id": "Frs7_CqH774W"
      }
    },
    {
      "cell_type": "code",
      "source": [
        "def write_numbers_to_file(file_name, numbers):\n",
        "    try:\n",
        "        with open(file_name, 'w') as file:  # Open the file in write mode\n",
        "            for number in numbers:\n",
        "                file.write(f\"{number}\\n\")  # Write each number followed by a newline\n",
        "        print(f\"Numbers have been written to '{file_name}' successfully.\")\n",
        "    except Exception as e:\n",
        "        print(f\"An error occurred while writing to the file: {e}\")\n",
        "\n",
        "# Example usage\n",
        "if __name__ == \"__main__\":\n",
        "    # Create a list of numbers\n",
        "    numbers = [1, 2, 3, 4, 5, 6, 7, 8, 9, 10]\n",
        "\n",
        "    # Specify the file name\n",
        "    file_name = 'numbers.txt'\n",
        "\n",
        "    # Write the list of numbers to the file\n",
        "    write_numbers_to_file(file_name, numbers)"
      ],
      "metadata": {
        "colab": {
          "base_uri": "https://localhost:8080/"
        },
        "id": "Gr9UEI0P8BLc",
        "outputId": "e391a80f-d67b-4663-f139-d7b7a9e88cef"
      },
      "execution_count": 37,
      "outputs": [
        {
          "output_type": "stream",
          "name": "stdout",
          "text": [
            "Numbers have been written to 'numbers.txt' successfully.\n"
          ]
        }
      ]
    },
    {
      "cell_type": "markdown",
      "source": [
        "18.  How would you implement a basic logging setup that logs to a file with rotation after 1MB?"
      ],
      "metadata": {
        "id": "8So3y1dj8LPQ"
      }
    },
    {
      "cell_type": "code",
      "source": [
        "import logging\n",
        "from logging.handlers import RotatingFileHandler\n",
        "\n",
        "# Configure logging\n",
        "log_file_path = 'app.log'  # The log file name\n",
        "max_file_size = 1 * 1024 * 1024  # 1 MB in bytes\n",
        "backup_count = 5  # Number of backup files to keep\n",
        "\n",
        "# Create a rotating file handler\n",
        "handler = RotatingFileHandler(log_file_path, maxBytes=max_file_size, backupCount=backup_count)\n",
        "\n",
        "# Set the logging level and format\n",
        "logging.basicConfig(\n",
        "    handlers=[handler],\n",
        "    level=logging.INFO,\n",
        "    format='%(asctime)s - %(levelname)s - %(message)s'\n",
        ")\n",
        "\n",
        "# Example logging messages\n",
        "def log_example_messages():\n",
        "    for i in range(10000):  # Generate a lot of log messages\n",
        "        logging.info(f\"This is log message number {i}\")\n",
        "\n",
        "# Run the logging example\n",
        "log_example_messages()"
      ],
      "metadata": {
        "id": "EJxJOmE8B5o3"
      },
      "execution_count": 45,
      "outputs": []
    },
    {
      "cell_type": "markdown",
      "source": [
        "19. Write a program that handles both IndexError and KeyError using a try-except block."
      ],
      "metadata": {
        "id": "RzxgIn-U8nV9"
      }
    },
    {
      "cell_type": "code",
      "source": [
        "def access_data(my_list, my_dict, list_index, dict_key):\n",
        "    try:\n",
        "        # Attempt to access an element from the list\n",
        "        list_value = my_list[list_index]\n",
        "        print(f\"Value from list at index {list_index}: {list_value}\")\n",
        "\n",
        "        # Attempt to access a value from the dictionary\n",
        "        dict_value = my_dict[dict_key]\n",
        "        print(f\"Value from dictionary with key '{dict_key}': {dict_value}\")\n",
        "\n",
        "    except IndexError:\n",
        "        print(f\"Error: Index {list_index} is out of range for the list.\")\n",
        "    except KeyError:\n",
        "        print(f\"Error: Key '{dict_key}' not found in the dictionary.\")\n",
        "\n",
        "# Example usage\n",
        "my_list = [10, 20, 30]\n",
        "my_dict = {'a': 1, 'b': 2, 'c': 3}\n",
        "\n",
        "# Test with valid index and key\n",
        "access_data(my_list, my_dict, 1, 'b')\n",
        "\n",
        "# Test with an invalid index\n",
        "access_data(my_list, my_dict, 5, 'b')\n",
        "\n",
        "# Test with an invalid key\n",
        "access_data(my_list, my_dict, 1, 'd')"
      ],
      "metadata": {
        "colab": {
          "base_uri": "https://localhost:8080/"
        },
        "id": "WlJHhkel8sm8",
        "outputId": "79ae2cc8-3f25-4987-d1ce-15837b935a3b"
      },
      "execution_count": 39,
      "outputs": [
        {
          "output_type": "stream",
          "name": "stdout",
          "text": [
            "Value from list at index 1: 20\n",
            "Value from dictionary with key 'b': 2\n",
            "Error: Index 5 is out of range for the list.\n",
            "Value from list at index 1: 20\n",
            "Error: Key 'd' not found in the dictionary.\n"
          ]
        }
      ]
    },
    {
      "cell_type": "markdown",
      "source": [
        "20.  How would you open a file and read its contents using a context manager in Python?"
      ],
      "metadata": {
        "id": "lxa_iD8c9cFg"
      }
    },
    {
      "cell_type": "code",
      "source": [
        "# Using a context manager to open and read a file\n",
        "file_path = 'example.txt'  # Replace with your file path\n",
        "\n",
        "try:\n",
        "    with open(file_path, 'r') as file:\n",
        "        contents = file.read()  # Read the entire file contents\n",
        "        print(contents)  # Print the contents of the file\n",
        "except FileNotFoundError:\n",
        "    print(f\"Error: The file '{file_path}' was not found.\")\n",
        "except IOError:\n",
        "    print(f\"Error: An I/O error occurred while reading the file.\")"
      ],
      "metadata": {
        "colab": {
          "base_uri": "https://localhost:8080/"
        },
        "id": "IPS6H7iv9oj_",
        "outputId": "6f46b2e5-c1e4-4a4e-955c-0d433b3ceab7"
      },
      "execution_count": 40,
      "outputs": [
        {
          "output_type": "stream",
          "name": "stdout",
          "text": [
            "Hello, world!Appending this line.\n",
            "This is a new line of text.\n",
            "\n"
          ]
        }
      ]
    },
    {
      "cell_type": "markdown",
      "source": [
        "21. Write a Python program that reads a file and prints the number of occurrences of a specific word."
      ],
      "metadata": {
        "id": "0WHYeVtp98FT"
      }
    },
    {
      "cell_type": "code",
      "source": [
        "def count_word_occurrences(file_path, target_word):\n",
        "    try:\n",
        "        with open(file_path, 'r') as file:\n",
        "            contents = file.read()  # Read the entire file contents\n",
        "            # Split the contents into words and count occurrences of the target word\n",
        "            word_list = contents.split()\n",
        "            word_count = word_list.count(target_word)\n",
        "            return word_count\n",
        "    except FileNotFoundError:\n",
        "        print(f\"Error: The file '{file_path}' was not found.\")\n",
        "        return 0\n",
        "    except IOError:\n",
        "        print(f\"Error: An I/O error occurred while reading the file.\")\n",
        "        return 0\n",
        "\n",
        "# Example usage\n",
        "file_path = 'example.txt'  # Replace with your file path\n",
        "target_word = 'your_word'   # Replace with the word you want to count\n",
        "\n",
        "occurrences = count_word_occurrences(file_path, target_word)\n",
        "print(f\"The word '{target_word}' occurs {occurrences} times in the file '{file_path}'.\")"
      ],
      "metadata": {
        "colab": {
          "base_uri": "https://localhost:8080/"
        },
        "id": "XS78DMdk-A36",
        "outputId": "f39daa08-a0f1-4a4d-8e38-c87f7e967e9d"
      },
      "execution_count": 41,
      "outputs": [
        {
          "output_type": "stream",
          "name": "stdout",
          "text": [
            "The word 'your_word' occurs 0 times in the file 'example.txt'.\n"
          ]
        }
      ]
    },
    {
      "cell_type": "markdown",
      "source": [
        "22.  How can you check if a file is empty before attempting to read its contents?"
      ],
      "metadata": {
        "id": "MEfIupBy-HTS"
      }
    },
    {
      "cell_type": "code",
      "source": [
        "import os\n",
        "\n",
        "def is_file_empty(file_path):\n",
        "    return os.path.getsize(file_path) == 0\n",
        "\n",
        "def read_file_contents(file_path):\n",
        "    if is_file_empty(file_path):\n",
        "        print(f\"The file '{file_path}' is empty.\")\n",
        "        return None\n",
        "\n",
        "    try:\n",
        "        with open(file_path, 'r') as file:\n",
        "            contents = file.read()  # Read the entire file contents\n",
        "            return contents\n",
        "    except FileNotFoundError:\n",
        "        print(f\"Error: The file '{file_path}' was not found.\")\n",
        "        return None\n",
        "    except IOError:\n",
        "        print(f\"Error: An I/O error occurred while reading the file.\")\n",
        "        return None\n",
        "\n",
        "# Example usage\n",
        "file_path = 'example.txt'  # Replace with your file path\n",
        "contents = read_file_contents(file_path)\n",
        "\n",
        "if contents is not None:\n",
        "    print(\"File contents:\")\n",
        "    print(contents)"
      ],
      "metadata": {
        "colab": {
          "base_uri": "https://localhost:8080/"
        },
        "id": "CkAiPhmb-Mw3",
        "outputId": "2c0a6965-b4c6-4997-c3a9-20ea048e0304"
      },
      "execution_count": 42,
      "outputs": [
        {
          "output_type": "stream",
          "name": "stdout",
          "text": [
            "File contents:\n",
            "Hello, world!Appending this line.\n",
            "This is a new line of text.\n",
            "\n"
          ]
        }
      ]
    },
    {
      "cell_type": "markdown",
      "source": [
        "23. Write a Python program that writes to a log file when an error occurs during file handling."
      ],
      "metadata": {
        "id": "UzPDXUSC-UdP"
      }
    },
    {
      "cell_type": "code",
      "source": [
        "import os\n",
        "import logging\n",
        "\n",
        "# Configure logging\n",
        "logging.basicConfig(filename='error_log.txt', level=logging.ERROR,\n",
        "                    format='%(asctime)s - %(levelname)s - %(message)s')\n",
        "\n",
        "def read_file_contents(file_path):\n",
        "    try:\n",
        "        with open(file_path, 'r') as file:\n",
        "            contents = file.read()  # Read the entire file contents\n",
        "            return contents\n",
        "    except FileNotFoundError:\n",
        "        error_message = f\"Error: The file '{file_path}' was not found.\"\n",
        "        logging.error(error_message)\n",
        "        print(error_message)\n",
        "        return None\n",
        "    except IOError as e:\n",
        "        error_message = f\"Error: An I/O error occurred while reading the file: {e}\"\n",
        "        logging.error(error_message)\n",
        "        print(error_message)\n",
        "        return None\n",
        "\n",
        "def write_to_file(file_path, data):\n",
        "    try:\n",
        "        with open(file_path, 'w') as file:\n",
        "            file.write(data)  # Write data to the file\n",
        "    except IOError as e:\n",
        "        error_message = f\"Error: An I/O error occurred while writing to the file: {e}\"\n",
        "        logging.error(error_message)\n",
        "        print(error_message)\n",
        "\n",
        "# Example usage\n",
        "log_file_path = 'example.txt'  # Replace with your file path\n",
        "data_to_write = \"This is a test log entry.\"\n",
        "\n",
        "# Write data to the file\n",
        "write_to_file(log_file_path, data_to_write)\n",
        "\n",
        "# Read data from the file\n",
        "contents = read_file_contents(log_file_path)\n",
        "\n",
        "if contents is not None:\n",
        "    print(\"File contents:\")\n",
        "    print(contents)"
      ],
      "metadata": {
        "colab": {
          "base_uri": "https://localhost:8080/"
        },
        "id": "mxWorZyG-YT1",
        "outputId": "f8c52c4c-35c7-4e95-c3ea-6a4c3321ca77"
      },
      "execution_count": 43,
      "outputs": [
        {
          "output_type": "stream",
          "name": "stdout",
          "text": [
            "File contents:\n",
            "This is a test log entry.\n"
          ]
        }
      ]
    }
  ]
}